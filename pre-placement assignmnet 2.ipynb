{
 "cells": [
  {
   "cell_type": "markdown",
   "id": "8c9e7585-d698-400e-b94e-08654d611c65",
   "metadata": {},
   "source": [
    "## 1.array pair sum"
   ]
  },
  {
   "cell_type": "code",
   "execution_count": 3,
   "id": "9461b063-43bb-4f51-b9b1-e07d5311d31d",
   "metadata": {},
   "outputs": [
    {
     "name": "stdout",
     "output_type": "stream",
     "text": [
      "4\n"
     ]
    }
   ],
   "source": [
    "def arrayPairSum (nums):\n",
    "    nums.sort()\n",
    "    sum = 0\n",
    "    for i in range (0,len(nums), 2):\n",
    "        sum += nums[i]\n",
    "    return sum\n",
    "\n",
    "nums = [1,4,3,2]\n",
    "max_sum = arrayPairSum (nums)\n",
    "print(max_sum)"
   ]
  },
  {
   "cell_type": "code",
   "execution_count": null,
   "id": "06254c95-dddf-4233-a82e-41f00f1bdfcc",
   "metadata": {},
   "outputs": [],
   "source": [
    "To maximize  the sum of the minimum elememts in each pair,we can sort the array and pair up the smallest element with the next \n",
    "smallest element, th third smallest element with the fourth smallest element, and so on. This way, the smaller elements are \n",
    "paired with each other, allowing the larger elements to contribute to the sum."
   ]
  },
  {
   "cell_type": "markdown",
   "id": "703c3510-094d-40f6-8a33-239e1db4cee2",
   "metadata": {},
   "source": [
    "## 2.max candies"
   ]
  },
  {
   "cell_type": "code",
   "execution_count": 4,
   "id": "4fd385e4-ded7-4679-bfe0-682bb9894e96",
   "metadata": {},
   "outputs": [
    {
     "name": "stdout",
     "output_type": "stream",
     "text": [
      "3\n"
     ]
    }
   ],
   "source": [
    "def maxCandies (nums):\n",
    "    unique_candies = set()\n",
    "    for candy in candy_type:\n",
    "        unique_candies.add(candy)\n",
    "        \n",
    "    return min(len(unique_candies), len(candy_type)//2)\n",
    "\n",
    "candy_type = [1,1,2,2,3,3]\n",
    "max_type = maxCandies(candy_type)\n",
    "print (max_type)"
   ]
  },
  {
   "cell_type": "code",
   "execution_count": null,
   "id": "01c528fa-2253-4cd2-9499-12351f27e987",
   "metadata": {},
   "outputs": [],
   "source": [
    "To find the maximum number of different types of candies alice can eat while following the doctors advice, we can count the \n",
    "number unique candy types in the guven array. If the number of unique candy types lesser thsn or equal to n/2, Alice can eat\n",
    "all of them. Otherwise, she can only eat n/2 different types of candies."
   ]
  },
  {
   "cell_type": "markdown",
   "id": "fb2677e3-ffa2-44f8-9bdd-ab41c35bcc9c",
   "metadata": {},
   "source": [
    "## 3.find LHS"
   ]
  },
  {
   "cell_type": "code",
   "execution_count": 10,
   "id": "0c181414-287e-4415-a773-64450b7a49d3",
   "metadata": {},
   "outputs": [
    {
     "name": "stdout",
     "output_type": "stream",
     "text": [
      "5\n"
     ]
    }
   ],
   "source": [
    "def findLHS(nums):\n",
    "    count = nums\n",
    "    max_length = 0\n",
    "    \n",
    "    for num in count:\n",
    "        if num + 1 in count:\n",
    "            max_length = max(max_length,count[num] + count[num+1])\n",
    "            \n",
    "    return max_length\n",
    "\n",
    "nums = [1,3,2,2,5,2,3,7]\n",
    "longest_length = findLHS(nums)\n",
    "print(longest_length)"
   ]
  },
  {
   "cell_type": "code",
   "execution_count": null,
   "id": "2d7d0ef1-e1b6-407d-bed7-5c23cac12c00",
   "metadata": {},
   "outputs": [],
   "source": [
    "To find the length of the longest harmonious subsequence in an array, we can iterate over the array and count the \n",
    "occurences of each element. for each element,we check if its complement is also present in the array. if so,we calculate the length of the \n",
    "harmonious subsequence and update the maximum length accordingly."
   ]
  },
  {
   "cell_type": "markdown",
   "id": "c5c905cd-2893-4f70-b4d8-efa8e74b480e",
   "metadata": {},
   "source": [
    "## 4.flower bed"
   ]
  },
  {
   "cell_type": "code",
   "execution_count": 18,
   "id": "983dd889-7f78-4cbb-96c8-5f18b6fcb538",
   "metadata": {},
   "outputs": [
    {
     "name": "stdout",
     "output_type": "stream",
     "text": [
      "True\n"
     ]
    }
   ],
   "source": [
    "def canPlaceFlowers(flowers_bed,n):\n",
    "    count = 0 \n",
    "    length = len(flowers_bed)\n",
    "    \n",
    "    for i in range (length):\n",
    "        if flower_bed[i] == 0 and ( i == 0 or flowers_bed[i-1] == 0):\n",
    "            count += 1\n",
    "            flower_bed[i] = 1\n",
    "            \n",
    "    return count >= n\n",
    "\n",
    "flower_bed = [1,0,0,0,1]\n",
    "n = 1\n",
    "result = canPlaceFlowers(flower_bed,n)\n",
    "print(result)"
   ]
  },
  {
   "cell_type": "markdown",
   "id": "24e516d9-d9fe-4f8c-85b0-02650191dc55",
   "metadata": {},
   "source": [
    "## 5.maximum product"
   ]
  },
  {
   "cell_type": "code",
   "execution_count": 19,
   "id": "82d8b770-32b9-48b1-90cb-409e12bf317f",
   "metadata": {},
   "outputs": [
    {
     "name": "stdout",
     "output_type": "stream",
     "text": [
      "6\n"
     ]
    }
   ],
   "source": [
    "def maximumProduct (nums):\n",
    "    nums.sort()\n",
    "    max_product = nums[-1] * nums[-2]* nums[-3]\n",
    "    neg_product = nums[0] * nums[1]*nums[-1]\n",
    "    return max(max_product,neg_product)\n",
    "\n",
    "nums = [1,2,3]\n",
    "max_product = maximumProduct(nums)\n",
    "print(max_product)\n"
   ]
  },
  {
   "cell_type": "markdown",
   "id": "f718263a-ec77-47ff-9ca1-f40828043ffc",
   "metadata": {},
   "source": [
    "## 6.sorted in ascending order"
   ]
  },
  {
   "cell_type": "code",
   "execution_count": 21,
   "id": "9b1204dd-f11c-44a2-9ecd-5287d2968e99",
   "metadata": {},
   "outputs": [
    {
     "name": "stdout",
     "output_type": "stream",
     "text": [
      "4\n"
     ]
    }
   ],
   "source": [
    "def search(nums,target):\n",
    "    left,right = 0,len(nums)-1\n",
    "    \n",
    "    while left<= right:\n",
    "        mid = (left + right)//2\n",
    "        \n",
    "        if nums[mid] == target:\n",
    "            return mid\n",
    "        elif target < nums[mid]:\n",
    "            right = mid-1\n",
    "        else :\n",
    "            left = mid +1\n",
    "            \n",
    "    return -1\n",
    "\n",
    "nums = [-1,0,3,5,9,12]\n",
    "target = 9\n",
    "result = search(nums,target)\n",
    "print(result)"
   ]
  },
  {
   "cell_type": "code",
   "execution_count": null,
   "id": "6765b7f4-5a37-414b-af56-dacddbe8ffdb",
   "metadata": {},
   "outputs": [],
   "source": [
    "The output will be 4,as expalined in the example. The target value 9 exists in the num array, and its index is 4."
   ]
  },
  {
   "cell_type": "markdown",
   "id": "1b4d999b-4512-4353-8d31-28c4233a170b",
   "metadata": {},
   "source": [
    "## 7.monotonic"
   ]
  },
  {
   "cell_type": "code",
   "execution_count": 26,
   "id": "4b2be5a2-d5ea-4393-85d1-bd822194a52e",
   "metadata": {},
   "outputs": [
    {
     "name": "stdout",
     "output_type": "stream",
     "text": [
      "True\n"
     ]
    }
   ],
   "source": [
    "def isMonotonic(nums):\n",
    "    isincreasing = True\n",
    "    isdecreasing = True\n",
    "    \n",
    "    for i in range(len(nums)-1):\n",
    "        if nums[i] > nums[i+1]:\n",
    "            isincreasing = False\n",
    "            if nums[i] < nums[i+1]:\n",
    "                isdecreasing = False\n",
    "                \n",
    "            if not isincreasing and not isdecreasing:\n",
    "                return False\n",
    "            \n",
    "    return True\n",
    "\n",
    "nums= [1,2,2,3]\n",
    "result = isMonotonic(nums)\n",
    "print(result)    "
   ]
  },
  {
   "cell_type": "markdown",
   "id": "7cc42fa3-e8f4-4abb-a661-1dca54ecfd9a",
   "metadata": {},
   "source": [
    "## 8.maximum and minimum score"
   ]
  },
  {
   "cell_type": "code",
   "execution_count": 7,
   "id": "179ce085-602c-409a-9c21-517e5a823a77",
   "metadata": {},
   "outputs": [
    {
     "name": "stdout",
     "output_type": "stream",
     "text": [
      "0\n"
     ]
    }
   ],
   "source": [
    "def maxScore(nums,k):\n",
    "    min_val = min(nums)\n",
    "    max_val = max(nums)\n",
    "    initial_score = max_val - min_val\n",
    "    max_score = initial_score\n",
    "    \n",
    "    for i in range (len(nums)):\n",
    "        max_possible_val = nums[i] + k\n",
    "        new_max = max(max_val,max_possible_val)\n",
    "        new_min = min(min_val,max_possible_val)\n",
    "        max_score = max(max_score,new_max - new_min)\n",
    "        \n",
    "    return max_score\n",
    "    \n",
    "    \n",
    "    \n",
    "nums = [1]\n",
    "k = 0\n",
    "max_score =maxScore(nums,k)\n",
    "print(max_score)"
   ]
  },
  {
   "cell_type": "code",
   "execution_count": null,
   "id": "02a92d07-45df-446b-a215-f06173ff6af4",
   "metadata": {},
   "outputs": [],
   "source": [
    "The output will be 0, as explained in the example. Since, there is only one element in the array, the score is 'max(nums)\n",
    "-min (nums) 1-1 = 0', and it cannot be increased further by applying the operation."
   ]
  }
 ],
 "metadata": {
  "kernelspec": {
   "display_name": "Python 3 (ipykernel)",
   "language": "python",
   "name": "python3"
  },
  "language_info": {
   "codemirror_mode": {
    "name": "ipython",
    "version": 3
   },
   "file_extension": ".py",
   "mimetype": "text/x-python",
   "name": "python",
   "nbconvert_exporter": "python",
   "pygments_lexer": "ipython3",
   "version": "3.10.8"
  }
 },
 "nbformat": 4,
 "nbformat_minor": 5
}
